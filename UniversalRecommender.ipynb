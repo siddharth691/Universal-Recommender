{
 "cells": [
  {
   "cell_type": "code",
   "execution_count": 1,
   "metadata": {
    "collapsed": true
   },
   "outputs": [],
   "source": [
    "#Dependencies\n",
    "import pandas as pd\n",
    "import numpy as np"
   ]
  },
  {
   "cell_type": "code",
   "execution_count": 2,
   "metadata": {
    "collapsed": false
   },
   "outputs": [],
   "source": [
    "#Reading the csv file\n",
    "events = pd.read_csv('events.csv')"
   ]
  },
  {
   "cell_type": "code",
   "execution_count": 3,
   "metadata": {
    "collapsed": true
   },
   "outputs": [],
   "source": [
    "#Taking a subset of the file for faster prototyping\n",
    "events = events.iloc[1:10000,:]"
   ]
  },
  {
   "cell_type": "code",
   "execution_count": 5,
   "metadata": {
    "collapsed": false
   },
   "outputs": [
    {
     "data": {
      "text/html": [
       "<div>\n",
       "<table border=\"1\" class=\"dataframe\">\n",
       "  <thead>\n",
       "    <tr style=\"text-align: right;\">\n",
       "      <th></th>\n",
       "      <th>timestamp</th>\n",
       "      <th>visitorid</th>\n",
       "      <th>event</th>\n",
       "      <th>itemid</th>\n",
       "      <th>transactionid</th>\n",
       "    </tr>\n",
       "  </thead>\n",
       "  <tbody>\n",
       "    <tr>\n",
       "      <th>1</th>\n",
       "      <td>1433224214164</td>\n",
       "      <td>992329</td>\n",
       "      <td>view</td>\n",
       "      <td>248676</td>\n",
       "      <td>NaN</td>\n",
       "    </tr>\n",
       "    <tr>\n",
       "      <th>2</th>\n",
       "      <td>1433221999827</td>\n",
       "      <td>111016</td>\n",
       "      <td>view</td>\n",
       "      <td>318965</td>\n",
       "      <td>NaN</td>\n",
       "    </tr>\n",
       "    <tr>\n",
       "      <th>3</th>\n",
       "      <td>1433221955914</td>\n",
       "      <td>483717</td>\n",
       "      <td>view</td>\n",
       "      <td>253185</td>\n",
       "      <td>NaN</td>\n",
       "    </tr>\n",
       "    <tr>\n",
       "      <th>4</th>\n",
       "      <td>1433221337106</td>\n",
       "      <td>951259</td>\n",
       "      <td>view</td>\n",
       "      <td>367447</td>\n",
       "      <td>NaN</td>\n",
       "    </tr>\n",
       "    <tr>\n",
       "      <th>5</th>\n",
       "      <td>1433224086234</td>\n",
       "      <td>972639</td>\n",
       "      <td>view</td>\n",
       "      <td>22556</td>\n",
       "      <td>NaN</td>\n",
       "    </tr>\n",
       "  </tbody>\n",
       "</table>\n",
       "</div>"
      ],
      "text/plain": [
       "       timestamp  visitorid event  itemid  transactionid\n",
       "1  1433224214164     992329  view  248676            NaN\n",
       "2  1433221999827     111016  view  318965            NaN\n",
       "3  1433221955914     483717  view  253185            NaN\n",
       "4  1433221337106     951259  view  367447            NaN\n",
       "5  1433224086234     972639  view   22556            NaN"
      ]
     },
     "execution_count": 5,
     "metadata": {},
     "output_type": "execute_result"
    }
   ],
   "source": [
    "events.head()"
   ]
  },
  {
   "cell_type": "code",
   "execution_count": 6,
   "metadata": {
    "collapsed": false
   },
   "outputs": [],
   "source": [
    "#convering timestamp into pandas datetime format\n",
    "events.timestamp = pd.to_datetime(events.timestamp, unit='ms')"
   ]
  },
  {
   "cell_type": "code",
   "execution_count": 7,
   "metadata": {
    "collapsed": false
   },
   "outputs": [
    {
     "data": {
      "text/plain": [
       "array(['view', 'addtocart', 'transaction'], dtype=object)"
      ]
     },
     "execution_count": 7,
     "metadata": {},
     "output_type": "execute_result"
    }
   ],
   "source": [
    "#Checking different unique events in the dataframe\n",
    "events.event.unique()"
   ]
  },
  {
   "cell_type": "code",
   "execution_count": 8,
   "metadata": {
    "collapsed": false
   },
   "outputs": [],
   "source": [
    "#creating dataframe for each event\n",
    "view = events.loc[events.event == 'view']\n",
    "addtocart = events.loc[events.event == 'addtocart']\n",
    "transaction = events.loc[events.event == 'transaction']"
   ]
  },
  {
   "cell_type": "code",
   "execution_count": 10,
   "metadata": {
    "collapsed": false
   },
   "outputs": [],
   "source": [
    "#Keeping relevant columns\n",
    "view = view.loc[:,['visitorid','itemid']]\n",
    "addtocart = addtocart.loc[:,['visitorid', 'itemid']]\n",
    "transaction = transaction.loc[:,['visitorid', 'itemid']]"
   ]
  },
  {
   "cell_type": "code",
   "execution_count": 286,
   "metadata": {
    "collapsed": false
   },
   "outputs": [],
   "source": [
    "#Creating visitorid as index\n",
    "view.index = view.visitorid\n",
    "view.drop('visitorid', axis=1, inplace =True)\n",
    "addtocart.index = addtocart.visitorid\n",
    "addtocart.drop('visitorid', axis=1, inplace = True)\n",
    "transaction.index = transaction.visitorid\n",
    "transaction.drop('visitorid', axis=1, inplace=True)"
   ]
  },
  {
   "cell_type": "code",
   "execution_count": 290,
   "metadata": {
    "collapsed": false
   },
   "outputs": [],
   "source": [
    "#Creating history matrix\n",
    "history_view = pd.get_dummies(view, columns=['itemid'])\n",
    "history_addtocart = pd.get_dummies(addtocart, columns=['itemid'])\n",
    "history_transaction = pd.get_dummies(transaction, columns=['itemid'])"
   ]
  },
  {
   "cell_type": "code",
   "execution_count": 291,
   "metadata": {
    "collapsed": false
   },
   "outputs": [],
   "source": [
    "#Counting the duplicate rows and adding the count\n",
    "history_view = history_view.groupby([history_view.index])[history_view.filter(regex='itemid_.*').columns].sum()\n",
    "history_addtocart = history_addtocart.groupby([history_addtocart.index])[history_addtocart.filter(regex='itemid_.*').columns].sum()\n",
    "history_transaction = history_transaction.groupby([history_transaction.index])[history_transaction.filter(regex='itemid_.*').columns].sum()"
   ]
  },
  {
   "cell_type": "code",
   "execution_count": 303,
   "metadata": {
    "collapsed": true
   },
   "outputs": [],
   "source": [
    "#Converting into a union dataframe\n",
    "def union_dataframe(history_event, ind_union, col_union):\n",
    "    \n",
    "    history_event = history_event.copy()\n",
    "    index_event_df = pd.DataFrame(0, index=ind_union.difference(history_event.index), columns= history_event.columns)\n",
    "    history_event = pd.concat([history_event, index_event_df], axis=0)\n",
    "    col_event_df = pd.DataFrame(0,index=history_event.index, columns=col_union.difference(history_event.columns))\n",
    "    history_event= pd.concat([history_event, col_event_df], axis=1)\n",
    "    #Sort rows and columns for uniformity\n",
    "    history_event = history_event.reindex_axis(sorted(history_event.columns), axis=1).sort_index()\n",
    "    return history_event\n",
    "\n",
    "ind_union = history_view.index.union(history_addtocart.index).union(history_transaction.index)\n",
    "col_union = history_view.columns.union(history_addtocart.columns).union(history_transaction.columns)\n",
    "history_view =  union_dataframe(history_view,ind_union, col_union)\n",
    "history_addtocart =  union_dataframe(history_addtocart,ind_union, col_union)\n",
    "history_transaction =  union_dataframe(history_transaction,ind_union, col_union)"
   ]
  },
  {
   "cell_type": "code",
   "execution_count": 295,
   "metadata": {
    "collapsed": false,
    "scrolled": true
   },
   "outputs": [
    {
     "data": {
      "text/plain": [
       "visitorid\n",
       "137                                      [itemid_383819]\n",
       "202                                       [itemid_62641]\n",
       "458                                      [itemid_182419]\n",
       "533                                      [itemid_360664]\n",
       "581                                      [itemid_388097]\n",
       "765                                      [itemid_287017]\n",
       "845                                      [itemid_351530]\n",
       "1322                                      [itemid_96924]\n",
       "1485                                      [itemid_32971]\n",
       "1654                                     [itemid_123555]\n",
       "1713                                     [itemid_270144]\n",
       "1722                                     [itemid_381314]\n",
       "1756       [itemid_150100, itemid_296448, itemid_346892]\n",
       "2081                                     [itemid_221146]\n",
       "2160                                     [itemid_280029]\n",
       "2366                                     [itemid_221428]\n",
       "2610                                     [itemid_159856]\n",
       "2900                                     [itemid_280330]\n",
       "3023                                     [itemid_356571]\n",
       "3068                                      [itemid_35913]\n",
       "3109                                     [itemid_463280]\n",
       "3189                                     [itemid_359607]\n",
       "3215                                     [itemid_220165]\n",
       "3849                                      [itemid_99281]\n",
       "3877                                     [itemid_185553]\n",
       "4078                                     [itemid_272907]\n",
       "4550                                     [itemid_271548]\n",
       "4652                                     [itemid_167505]\n",
       "5129                       [itemid_67748, itemid_143362]\n",
       "5628                                     [itemid_197708]\n",
       "                               ...                      \n",
       "953999                                                []\n",
       "994582                                                []\n",
       "1000567                                               []\n",
       "1001673                                               []\n",
       "1018888                                               []\n",
       "1043433                                               []\n",
       "1061098                                               []\n",
       "1067960                                               []\n",
       "1092695                                               []\n",
       "1109107                                               []\n",
       "1111359                                               []\n",
       "1128242                                               []\n",
       "1162854                                               []\n",
       "1162858                                               []\n",
       "1204271                                               []\n",
       "1233931                                               []\n",
       "1253168                                               []\n",
       "1279042                                               []\n",
       "1282975                                               []\n",
       "1318394                                               []\n",
       "1326841                                               []\n",
       "1331125                                               []\n",
       "1339727                                               []\n",
       "1344887                                               []\n",
       "1345880                                               []\n",
       "1359207                                               []\n",
       "1380258                                               []\n",
       "1381164                                               []\n",
       "1402642                                               []\n",
       "1406087                                               []\n",
       "dtype: object"
      ]
     },
     "execution_count": 295,
     "metadata": {},
     "output_type": "execute_result"
    }
   ],
   "source": [
    "#Check which visitor has viewed which item\n",
    "df = history_view.copy()\n",
    "cols = df.columns\n",
    "bt = df.apply(lambda x: x > 0)\n",
    "bt.apply(lambda x: list(cols[x.values]), axis=1)"
   ]
  },
  {
   "cell_type": "code",
   "execution_count": 59,
   "metadata": {
    "collapsed": true
   },
   "outputs": [],
   "source": [
    "#Functions to calculate entropy\n",
    "#k11, k12, k21, and k22 are the counts of simultaneously occuring of two events\n",
    "\n",
    "def denormEntropy1(counts):\n",
    "    '''Computes the entropy of a list of counts scaled by the sum of the counts. If the inputs sum to one, this is just the normal definition of entropy'''\n",
    "    lg = np.log(np.divide(k,float(np.sum(k))))\n",
    "    lg[lg==-np.inf]=0\n",
    "    return -np.sum(k*lg)\n",
    "\n",
    "def llr_2x2(k11, k12, k21, k22):\n",
    "    '''Special case of llr with a 2x2 table'''\n",
    "    return 2 * (denormEntropy([k11+k12, k21+k22]) +\n",
    "                denormEntropy([k11+k21, k12+k22]) -\n",
    "                denormEntropy([k11, k12, k21, k22]))"
   ]
  },
  {
   "cell_type": "code",
   "execution_count": 104,
   "metadata": {
    "collapsed": true
   },
   "outputs": [],
   "source": [
    "#calculating counts k11, k12, k21, k22 for each item, item combination in history matrix\n",
    "#Then calculating cross-cooccurence matrix\n",
    "\n",
    "def calc_counts_row(item1, item2):\n",
    "    new_item = np.concatenate((item1.reshape(-1,1) + item2.reshape(-1,1)), axis=1)\n",
    "    if((np.any(new_item[:,1]<0)==True)|(np.any(new_item[:,0]<0)==True)):\n",
    "        raise ValueError('History matrix has negative element')\n",
    "    k22 = len(new_item[(new_item[:,0]==0)&(new_item[:,1]==0)])\n",
    "    k21 = len(new_item[(new_item[:,0]==0)&(new_item[:,1]!=0)])\n",
    "    k12 = len(new_item[(new_item[:,0]!=0)&(new_item[:,1]==0)])\n",
    "    k11 = len(new_item[(new_item[:,0]!=0)&(new_item[:,1]!=0)])\n",
    "    \n",
    "    return k11,k12,k21,k22\n",
    "\n",
    "def calc_cooccurence_matrix(history_event):\n",
    "    coo_matrix = np.zeros((history_event.shape[1],history_event.shape[1]))\n",
    "    for item1_index in range(history_event.shape[1]):\n",
    "        for item2_index in range(history_event.shape[1]):\n",
    "            item1 = history_event[:,item1_index]\n",
    "            item2 = history_event[:,item2_index]\n",
    "            llr = llr_2x2(calc_counts_row(item1,item2))\n",
    "            coo_matrix[item1_index,item2_index] = llr\n",
    "    return coo_matrix\n",
    "\n",
    "def calc_cross_coocurence_matrix(primary_history, secondary_event):\n",
    "    coo_matrix = np.zeros((primary_history.shape[1], primary_history.shape[1]))\n",
    "    for item1_index in range(primary_history.shape[1]):\n",
    "        for item2_index in range(secondary_event.shape[1]):\n",
    "            item1 = primary_history[:,item1_index]\n",
    "            item2 = secondary_event[:,item2_index]\n",
    "            llr = llr_2x2(calc_counts_row(item1,item2))\n",
    "            coo_matrix[item1_index,item2_index] =llr\n",
    "    return coo_matrix\n",
    "\n",
    "def return_recommended_llr(coo_matrix, user_history):\n",
    "    user_history = user_history.reshape(-1,1)\n",
    "    user_llr = np.dot(coo_matrix, user_history)\n",
    "    return llr\n"
   ]
  },
  {
   "cell_type": "markdown",
   "metadata": {
    "collapsed": true
   },
   "source": [
    "#Recommendation training flow\n",
    "1. Creating a history matrix (including adding count for duplicate events by same user)\n",
    "2. Converting it into union history matrix\n",
    "3. Calculating cooccurence and cross-cooccurence matrix\n",
    "4. Calculating user_llr for each event\n",
    "5. Adding user_llr and recommending based on the number of recommendations specified"
   ]
  },
  {
   "cell_type": "code",
   "execution_count": null,
   "metadata": {
    "collapsed": false
   },
   "outputs": [],
   "source": [
    "params = {'eventNames': ['view','addtocart', 'transaction'],\n",
    "          'primaryEvent' : 2,\n",
    "          'algorithm' : {'name': ['URz'],\n",
    "                         'no_recommendations': 3,\n",
    "                         'time_dependent': True,\n",
    "                         'time_weight_ratio':}}"
   ]
  },
  {
   "cell_type": "code",
   "execution_count": null,
   "metadata": {
    "collapsed": true
   },
   "outputs": [],
   "source": [
    "class urecommend:\n",
    "    def __init__(self, params):\n",
    "        self.eventNames = params['eventNames']\n",
    "        self.primaryEvent = params['primaryEvent']\n",
    "        \n",
    "        if not isinstance(self.eventNames, list):\n",
    "            raise TypeError('eventNames should be of type list')\n",
    "        if not isinstance(self.primaryEvent, int):\n",
    "            raise TypeError('primaryEvent should be of type int')\n",
    "    \n",
    "    def fit(self, X):\n",
    "        \n",
    "        self.X = X\n",
    "        if isinstance(self.X, pd.DataFrame):\n",
    "            if(['visitorid','event','itemid'] not in self.X.columns.values):\n",
    "                raise ValueError('Incomplete input dataframe')\n",
    "        else:\n",
    "            raise TypeError('Input is not a dataframe')\n",
    "            \n",
    "        #Create history matrix\n",
    "        self.create_history_matrix()\n",
    "        \n",
    "        #Create union history matrix\n",
    "        self.create_union_history_matrix()\n",
    "        \n",
    "        #Calculating coocurrence and cross-coocurrence matrices\n",
    "        self.create_coocurrence_matrix()\n",
    "        \n",
    "        \n",
    "        \n",
    "        \n",
    "        \n",
    "    def create_history_matrix(self):\n",
    "        \n",
    "        #Initializing empty dictionary\n",
    "        self.history = {}\n",
    "        \n",
    "        for eventName in self.eventNames:\n",
    "            \n",
    "            #Taking out only event specific columns\n",
    "            self.history[eventName] = self.X.loc[self.X.event == eventName]\n",
    "            #Taking out required columns\n",
    "            self.history[eventName] = self.history[eventName].loc[:,['visitorid','itemid']]\n",
    "            #Making visitorid as index\n",
    "            self.history[eventName].index = self.history[eventName].visitorid\n",
    "            self.history[eventName].drop('visitorid', axis=1, inplace =True)\n",
    "            #creating dummy variable for each itemid\n",
    "            self.history[eventName] = pd.get_dummies(self.history[eventName], columns=['itemid'])\n",
    "            #adding count when user participated in an event with same item more than once\n",
    "            self.history[eventName] = self.history[eventName].groupby([self.history[eventName].index])[self.history[eventName].filter(regex='itemid_.*').columns].sum()\n",
    "        \n",
    "        \n",
    "    def create_union_history_matrix(self):\n",
    "        \n",
    "        #Calculating index and column union\n",
    "        index_union = self.history[self.eventNames[0]].index\n",
    "        column_union = self.history[self.eventNames[0]].columns\n",
    "        \n",
    "        for eventName in enumerate(self.eventNames[1:]):\n",
    "            index_union = index_union.union(self.history[eventName].index)\n",
    "            column_union = column_union.union(self.history[eventName].columns)\n",
    "        \n",
    "        #Creating union history event dataframe using index and column union\n",
    "        for eventName in enumerate(self.eventNames):\n",
    "            self.history[eventName] = self.union_dataframe(self.history[eventName], index_union, column_union)\n",
    "    \n",
    "    def create_coocurrence_matrix(self):\n",
    "        \n",
    "        self.coocurrence = {}\n",
    "        \n",
    "        self.coocurrence[self.eventNames[self.primaryEvent]+'-'+self.eventNames[self.primaryEvent]] = self.calc_cooccurence_matrix(self.history[self.eventNames[self.primaryEvent]])\n",
    "        \n",
    "        for eventName in self.eventNames:\n",
    "            \n",
    "            if(eventName!= self.eventName[self.primaryEvent]):\n",
    "                self.coocurrence[self.eventNames[self.primaryEvent]+'-'+eventName] = self.calc_cross_coocurence_matrix(self.history[self.eventNames[self.primaryEvent]], self.history[eventName])\n",
    "    \n",
    "    def union_dataframe(self, history_event, ind_union, col_union):\n",
    "    \n",
    "        history_event = history_event.copy()\n",
    "        index_event_df = pd.DataFrame(0, index=ind_union.difference(history_event.index), columns= history_event.columns)\n",
    "        history_event = pd.concat([history_event, index_event_df], axis=0)\n",
    "        col_event_df = pd.DataFrame(0,index=history_event.index, columns=col_union.difference(history_event.columns))\n",
    "        history_event= pd.concat([history_event, col_event_df], axis=1)\n",
    "        #Sort rows and columns for uniformity\n",
    "        history_event = history_event.reindex_axis(sorted(history_event.columns), axis=1).sort_index()\n",
    "        return history_event\n",
    "    \n",
    "    def calc_cooccurence_matrix(self, history_event):\n",
    "        \n",
    "        coo_matrix = np.zeros((history_event.shape[1],history_event.shape[1]))\n",
    "        for item1_index in range(history_event.shape[1]):\n",
    "            for item2_index in range(history_event.shape[1]):\n",
    "                item1 = history_event[:,item1_index]\n",
    "                item2 = history_event[:,item2_index]\n",
    "                llr = llr_2x2(calc_counts_row(item1,item2))\n",
    "                coo_matrix[item1_index,item2_index] = llr\n",
    "        return coo_matrix\n",
    "    \n",
    "    def calc_cross_coocurence_matrix(self, primary_history, secondary_event):\n",
    "        coo_matrix = np.zeros((primary_history.shape[1], primary_history.shape[1]))\n",
    "        for item1_index in range(primary_history.shape[1]):\n",
    "            for item2_index in range(secondary_event.shape[1]):\n",
    "                item1 = primary_history[:,item1_index]\n",
    "                item2 = secondary_event[:,item2_index]\n",
    "                llr = llr_2x2(calc_counts_row(item1,item2))\n",
    "                coo_matrix[item1_index,item2_index] =llr\n",
    "        return coo_matrix"
   ]
  },
  {
   "cell_type": "code",
   "execution_count": 34,
   "metadata": {
    "collapsed": false
   },
   "outputs": [
    {
     "data": {
      "text/plain": [
       "dict_keys(['eventNames', 'primaryEvent', 'algorithm'])"
      ]
     },
     "execution_count": 34,
     "metadata": {},
     "output_type": "execute_result"
    }
   ],
   "source": [
    "getattr(self, params.keys)"
   ]
  },
  {
   "cell_type": "code",
   "execution_count": 9,
   "metadata": {
    "collapsed": false
   },
   "outputs": [
    {
     "data": {
      "text/plain": [
       "215529"
      ]
     },
     "execution_count": 9,
     "metadata": {},
     "output_type": "execute_result"
    }
   ],
   "source": [
    "s = '21:55:29'\n",
    "int(str(pd.to_datetime(s).hour)+str(pd.to_datetime(s).minute)+str(pd.to_datetime(s).second))"
   ]
  },
  {
   "cell_type": "code",
   "execution_count": null,
   "metadata": {
    "collapsed": true
   },
   "outputs": [],
   "source": []
  }
 ],
 "metadata": {
  "kernelspec": {
   "display_name": "Python 3",
   "language": "python",
   "name": "python3"
  },
  "language_info": {
   "codemirror_mode": {
    "name": "ipython",
    "version": 3
   },
   "file_extension": ".py",
   "mimetype": "text/x-python",
   "name": "python",
   "nbconvert_exporter": "python",
   "pygments_lexer": "ipython3",
   "version": "3.6.0"
  }
 },
 "nbformat": 4,
 "nbformat_minor": 2
}
