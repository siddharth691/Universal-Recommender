{
 "cells": [
  {
   "cell_type": "code",
   "execution_count": 114,
   "metadata": {
    "collapsed": true
   },
   "outputs": [],
   "source": [
    "#Dependencies\n",
    "import pandas as pd\n",
    "import numpy as np"
   ]
  },
  {
   "cell_type": "code",
   "execution_count": 115,
   "metadata": {
    "collapsed": false
   },
   "outputs": [],
   "source": [
    "#Reading the csv file\n",
    "events = pd.read_csv('KaggleData/events.csv')"
   ]
  },
  {
   "cell_type": "code",
   "execution_count": 116,
   "metadata": {
    "collapsed": true
   },
   "outputs": [],
   "source": [
    "events = events.iloc[1:10000,:]"
   ]
  },
  {
   "cell_type": "code",
   "execution_count": 117,
   "metadata": {
    "collapsed": false
   },
   "outputs": [],
   "source": [
    "#convering timestamp into pandas datetime format\n",
    "events.timestamp = pd.to_datetime(events.timestamp, unit='ms')"
   ]
  },
  {
   "cell_type": "code",
   "execution_count": 118,
   "metadata": {
    "collapsed": false
   },
   "outputs": [
    {
     "data": {
      "text/plain": [
       "array(['view', 'addtocart', 'transaction'], dtype=object)"
      ]
     },
     "execution_count": 118,
     "metadata": {},
     "output_type": "execute_result"
    }
   ],
   "source": [
    "#Checking different unique events in the dataframe\n",
    "events.event.unique()"
   ]
  },
  {
   "cell_type": "code",
   "execution_count": 119,
   "metadata": {
    "collapsed": false
   },
   "outputs": [],
   "source": [
    "#creating dataframe for each event\n",
    "view = events.loc[events.event == 'view']\n",
    "addtocart = events.loc[events.event == 'addtocart']\n",
    "transaction = events.loc[events.event == 'transaction']"
   ]
  },
  {
   "cell_type": "code",
   "execution_count": 120,
   "metadata": {
    "collapsed": false
   },
   "outputs": [],
   "source": [
    "#Keeping relevant columns\n",
    "view = view.loc[:,['visitorid','itemid']]\n",
    "addtocart = addtocart.loc[:,['visitorid', 'itemid']]\n",
    "transaction = transaction.loc[:,['visitorid', 'itemid']]"
   ]
  },
  {
   "cell_type": "code",
   "execution_count": 121,
   "metadata": {
    "collapsed": false
   },
   "outputs": [],
   "source": [
    "#Creating visitorid as index\n",
    "view.index = view.visitorid\n",
    "view.drop('visitorid', axis=1, inplace =True)\n",
    "addtocart.index = addtocart.visitorid\n",
    "addtocart.drop('visitorid', axis=1, inplace = True)\n",
    "transaction.index = transaction.visitorid\n",
    "transaction.drop('visitorid', axis=1, inplace=True)"
   ]
  },
  {
   "cell_type": "code",
   "execution_count": 123,
   "metadata": {
    "collapsed": false
   },
   "outputs": [],
   "source": [
    "#Creating history matrix\n",
    "history_view = pd.get_dummies(view, columns=['itemid'])\n",
    "history_addtocart = pd.get_dummies(addtocart, columns=['itemid'])\n",
    "history_transaction = pd.get_dummies(transaction, columns=['itemid'])"
   ]
  },
  {
   "cell_type": "code",
   "execution_count": null,
   "metadata": {
    "collapsed": true
   },
   "outputs": [],
   "source": []
  },
  {
   "cell_type": "code",
   "execution_count": null,
   "metadata": {
    "collapsed": false
   },
   "outputs": [],
   "source": [
    "params = {'eventNames': ['view','addtocart', 'transaction'],\n",
    "          'primaryEvent' : 2,\n",
    "          'algorithm' : {'name': ['UR']}}"
   ]
  },
  {
   "cell_type": "code",
   "execution_count": null,
   "metadata": {
    "collapsed": true
   },
   "outputs": [],
   "source": [
    "class urecommend:\n",
    "    def __init__(self, params):\n",
    "        self.eventNames = params['eventNames']\n",
    "        self.primaryEvent = params['primaryEvent']\n",
    "        \n",
    "        if not isinstance(self.eventNames, list):\n",
    "            raise TypeError('eventNames should be of type list')\n",
    "        if not isinstance(self.primaryEvent, int):\n",
    "            raise TypeError('primaryEvent should be of type int')\n",
    "    \n",
    "    def fit(self, X):\n",
    "        \n",
    "        if isinstance(X, pd.DataFrame):\n",
    "            self.X = X.as_matrix()\n",
    "        \n",
    "    def history_matrix(self):\n",
    "        "
   ]
  },
  {
   "cell_type": "code",
   "execution_count": 34,
   "metadata": {
    "collapsed": false
   },
   "outputs": [
    {
     "data": {
      "text/plain": [
       "dict_keys(['eventNames', 'primaryEvent', 'algorithm'])"
      ]
     },
     "execution_count": 34,
     "metadata": {},
     "output_type": "execute_result"
    }
   ],
   "source": [
    "getattr(self, params.keys)"
   ]
  },
  {
   "cell_type": "code",
   "execution_count": null,
   "metadata": {
    "collapsed": true
   },
   "outputs": [],
   "source": []
  }
 ],
 "metadata": {
  "kernelspec": {
   "display_name": "Python 3",
   "language": "python",
   "name": "python3"
  },
  "language_info": {
   "codemirror_mode": {
    "name": "ipython",
    "version": 3
   },
   "file_extension": ".py",
   "mimetype": "text/x-python",
   "name": "python",
   "nbconvert_exporter": "python",
   "pygments_lexer": "ipython3",
   "version": "3.6.0"
  }
 },
 "nbformat": 4,
 "nbformat_minor": 2
}
