{
 "cells": [
  {
   "cell_type": "code",
   "execution_count": 1,
   "metadata": {
    "collapsed": true
   },
   "outputs": [],
   "source": [
    "#Dependencies\n",
    "import pandas as pd\n",
    "import numpy as np"
   ]
  },
  {
   "cell_type": "code",
   "execution_count": 2,
   "metadata": {
    "collapsed": false
   },
   "outputs": [],
   "source": [
    "#Reading the csv file\n",
    "events = pd.read_csv('events.csv')"
   ]
  },
  {
   "cell_type": "code",
   "execution_count": 3,
   "metadata": {
    "collapsed": true
   },
   "outputs": [],
   "source": [
    "#Taking a subset of the file for faster prototyping\n",
    "events = events.iloc[1:10000,:]"
   ]
  },
  {
   "cell_type": "code",
   "execution_count": 4,
   "metadata": {
    "collapsed": false
   },
   "outputs": [],
   "source": [
    "#convering timestamp into pandas datetime format\n",
    "events.timestamp = pd.to_datetime(events.timestamp, unit='ms')"
   ]
  },
  {
   "cell_type": "code",
   "execution_count": 5,
   "metadata": {
    "collapsed": false
   },
   "outputs": [
    {
     "data": {
      "text/plain": [
       "array(['view', 'addtocart', 'transaction'], dtype=object)"
      ]
     },
     "execution_count": 5,
     "metadata": {},
     "output_type": "execute_result"
    }
   ],
   "source": [
    "#Checking different unique events in the dataframe\n",
    "events.event.unique()"
   ]
  },
  {
   "cell_type": "code",
   "execution_count": 6,
   "metadata": {
    "collapsed": false
   },
   "outputs": [],
   "source": [
    "#creating dataframe for each event\n",
    "view = events.loc[events.event == 'view']\n",
    "addtocart = events.loc[events.event == 'addtocart']\n",
    "transaction = events.loc[events.event == 'transaction']"
   ]
  },
  {
   "cell_type": "code",
   "execution_count": 7,
   "metadata": {
    "collapsed": false
   },
   "outputs": [],
   "source": [
    "#Keeping relevant columns\n",
    "view = view.loc[:,['visitorid','itemid']]\n",
    "addtocart = addtocart.loc[:,['visitorid', 'itemid']]\n",
    "transaction = transaction.loc[:,['visitorid', 'itemid']]"
   ]
  },
  {
   "cell_type": "code",
   "execution_count": 8,
   "metadata": {
    "collapsed": false
   },
   "outputs": [],
   "source": [
    "#Creating visitorid as index\n",
    "view.index = view.visitorid\n",
    "view.drop('visitorid', axis=1, inplace =True)\n",
    "addtocart.index = addtocart.visitorid\n",
    "addtocart.drop('visitorid', axis=1, inplace = True)\n",
    "transaction.index = transaction.visitorid\n",
    "transaction.drop('visitorid', axis=1, inplace=True)"
   ]
  },
  {
   "cell_type": "code",
   "execution_count": 9,
   "metadata": {
    "collapsed": false
   },
   "outputs": [],
   "source": [
    "#Creating history matrix\n",
    "history_view = pd.get_dummies(view, columns=['itemid'])\n",
    "history_addtocart = pd.get_dummies(addtocart, columns=['itemid'])\n",
    "history_transaction = pd.get_dummies(transaction, columns=['itemid'])"
   ]
  },
  {
   "cell_type": "code",
   "execution_count": 72,
   "metadata": {
    "collapsed": false,
    "scrolled": true
   },
   "outputs": [
    {
     "data": {
      "text/plain": [
       "visitorid\n",
       "992329     [itemid_248676]\n",
       "111016     [itemid_318965]\n",
       "483717     [itemid_253185]\n",
       "951259     [itemid_367447]\n",
       "972639      [itemid_22556]\n",
       "810725     [itemid_443030]\n",
       "794181     [itemid_439202]\n",
       "824915     [itemid_428805]\n",
       "339335      [itemid_82389]\n",
       "176446      [itemid_10572]\n",
       "929206     [itemid_410676]\n",
       "15795       [itemid_44872]\n",
       "598426     [itemid_156489]\n",
       "223343     [itemid_402625]\n",
       "57036      [itemid_334662]\n",
       "1377281    [itemid_251467]\n",
       "1370216    [itemid_176721]\n",
       "1398644    [itemid_135256]\n",
       "653756     [itemid_132316]\n",
       "1213673    [itemid_343861]\n",
       "864246      [itemid_36642]\n",
       "125625      [itemid_17655]\n",
       "608100     [itemid_187722]\n",
       "781127      [itemid_21989]\n",
       "1076270    [itemid_262799]\n",
       "453474     [itemid_250696]\n",
       "1153198    [itemid_388242]\n",
       "273888     [itemid_205392]\n",
       "849453     [itemid_123990]\n",
       "487887     [itemid_345560]\n",
       "                ...       \n",
       "1105700    [itemid_133968]\n",
       "431115     [itemid_287918]\n",
       "932927     [itemid_273743]\n",
       "543510     [itemid_125159]\n",
       "808588      [itemid_55955]\n",
       "1238871     [itemid_51561]\n",
       "968035     [itemid_378970]\n",
       "531742     [itemid_340808]\n",
       "626772     [itemid_424952]\n",
       "332242     [itemid_224391]\n",
       "170822     [itemid_138820]\n",
       "527837     [itemid_192262]\n",
       "485698     [itemid_425504]\n",
       "735701      [itemid_43949]\n",
       "1258625    [itemid_233008]\n",
       "89713      [itemid_235224]\n",
       "520760     [itemid_213590]\n",
       "752460     [itemid_451580]\n",
       "443049     [itemid_242521]\n",
       "465118     [itemid_205502]\n",
       "1384356     [itemid_51802]\n",
       "957260     [itemid_395857]\n",
       "1220867    [itemid_326214]\n",
       "75634       [itemid_45275]\n",
       "764298      [itemid_49465]\n",
       "317285     [itemid_329279]\n",
       "1154250    [itemid_116794]\n",
       "278179      [itemid_99093]\n",
       "129678     [itemid_200413]\n",
       "1273707    [itemid_385778]\n",
       "dtype: object"
      ]
     },
     "execution_count": 72,
     "metadata": {},
     "output_type": "execute_result"
    }
   ],
   "source": [
    "#Check which visitor has viewed which item\n",
    "df = history_view.copy()\n",
    "cols = df.columns\n",
    "bt = df.apply(lambda x: x > 0)\n",
    "bt.apply(lambda x: list(cols[x.values]), axis=1)"
   ]
  },
  {
   "cell_type": "code",
   "execution_count": 59,
   "metadata": {
    "collapsed": true
   },
   "outputs": [],
   "source": [
    "#Functions to calculate entropy\n",
    "#k11, k12, k21, and k22 are the counts of simultaneously occuring of two events\n",
    "\n",
    "def denormEntropy1(counts):\n",
    "    '''Computes the entropy of a list of counts scaled by the sum of the counts. If the inputs sum to one, this is just the normal definition of entropy'''\n",
    "    lg = np.log(np.divide(k,float(np.sum(k))))\n",
    "    lg[lg==-np.inf]=0\n",
    "    return -np.sum(k*lg)\n",
    "\n",
    "def llr_2x2(k11, k12, k21, k22):\n",
    "    '''Special case of llr with a 2x2 table'''\n",
    "    return 2 * (denormEntropy([k11+k12, k21+k22]) +\n",
    "                denormEntropy([k11+k21, k12+k22]) -\n",
    "                denormEntropy([k11, k12, k21, k22]))"
   ]
  },
  {
   "cell_type": "code",
   "execution_count": 104,
   "metadata": {
    "collapsed": true
   },
   "outputs": [],
   "source": [
    "#calculating counts k11, k12, k21, k22 for each item, item combination in history matrix\n",
    "#Then calculating cross-cooccurence matrix\n",
    "\n",
    "def calc_counts_row(item1, item2):\n",
    "    new_item = np.concatenate((item1.reshape(-1,1) + item2.reshape(-1,1)), axis=1)\n",
    "    if((np.any(new_item[:,1]<0)==True)|(np.any(new_item[:,0]<0)==True)):\n",
    "        raise ValueError('History matrix has negative element')\n",
    "    k22 = len(new_item[(new_item[:,0]==0)&(new_item[:,1]==0)])\n",
    "    k21 = len(new_item[(new_item[:,0]==0)&(new_item[:,1]!=0)])\n",
    "    k12 = len(new_item[(new_item[:,0]!=0)&(new_item[:,1]==0)])\n",
    "    k11 = len(new_item[(new_item[:,0]!=0)&(new_item[:,1]!=0)])\n",
    "    \n",
    "    return k11,k12,k21,k22\n",
    "\n",
    "def calc_cooccurence_matrix(history_view):\n",
    "    coo_matrix = np.zeros((history_view.shape[1],history_view.shape[1]))\n",
    "    for item1_index in range(history_view.shape[1]):\n",
    "        for item2_index in range(history_view.shape[1]):\n",
    "            item1 = history_view[:,item1_index]\n",
    "            item2 = history_view[:,item2_index]\n",
    "            llr = llr_2x2(calc_counts_row(item1,item2))\n",
    "            coo_matrix[item1_index,item2_index] = llr\n",
    "    return coo_matrix\n"
   ]
  },
  {
   "cell_type": "code",
   "execution_count": null,
   "metadata": {
    "collapsed": false
   },
   "outputs": [],
   "source": [
    "params = {'eventNames': ['view','addtocart', 'transaction'],\n",
    "          'primaryEvent' : 2,\n",
    "          'algorithm' : {'name': ['UR'],\n",
    "                         'no_recommendations': 3,\n",
    "                         'time_dependent': True,\n",
    "                         'time_weight_ratio':}}"
   ]
  },
  {
   "cell_type": "code",
   "execution_count": null,
   "metadata": {
    "collapsed": true
   },
   "outputs": [],
   "source": [
    "class urecommend:\n",
    "    def __init__(self, params):\n",
    "        self.eventNames = params['eventNames']\n",
    "        self.primaryEvent = params['primaryEvent']\n",
    "        \n",
    "        if not isinstance(self.eventNames, list):\n",
    "            raise TypeError('eventNames should be of type list')\n",
    "        if not isinstance(self.primaryEvent, int):\n",
    "            raise TypeError('primaryEvent should be of type int')\n",
    "    \n",
    "    def fit(self, X):\n",
    "        \n",
    "        if isinstance(X, pd.DataFrame):\n",
    "            self.X = X.as_matrix()\n",
    "        \n",
    "    def history_matrix(self):\n",
    "        "
   ]
  },
  {
   "cell_type": "code",
   "execution_count": 34,
   "metadata": {
    "collapsed": false
   },
   "outputs": [
    {
     "data": {
      "text/plain": [
       "dict_keys(['eventNames', 'primaryEvent', 'algorithm'])"
      ]
     },
     "execution_count": 34,
     "metadata": {},
     "output_type": "execute_result"
    }
   ],
   "source": [
    "getattr(self, params.keys)"
   ]
  },
  {
   "cell_type": "code",
   "execution_count": null,
   "metadata": {
    "collapsed": true
   },
   "outputs": [],
   "source": []
  }
 ],
 "metadata": {
  "kernelspec": {
   "display_name": "Python 3",
   "language": "python",
   "name": "python3"
  },
  "language_info": {
   "codemirror_mode": {
    "name": "ipython",
    "version": 3
   },
   "file_extension": ".py",
   "mimetype": "text/x-python",
   "name": "python",
   "nbconvert_exporter": "python",
   "pygments_lexer": "ipython3",
   "version": "3.6.0"
  }
 },
 "nbformat": 4,
 "nbformat_minor": 2
}
