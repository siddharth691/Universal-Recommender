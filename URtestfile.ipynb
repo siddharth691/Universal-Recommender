{
 "cells": [
  {
   "cell_type": "markdown",
   "metadata": {
    "collapsed": true
   },
   "source": [
    "#Recommendation training flow\n",
    "1. Creating a history matrix (including adding count for duplicate events by same user)\n",
    "2. Converting it into union history matrix\n",
    "3. Calculating cooccurence and cross-cooccurence matrix\n",
    "4. Calculating user_llr for each event\n",
    "5. Adding user_llr and recommending based on the number of recommendations specified"
   ]
  },
  {
   "cell_type": "markdown",
   "metadata": {},
   "source": [
    "# TEST RUN"
   ]
  },
  {
   "cell_type": "code",
   "execution_count": 58,
   "metadata": {
    "collapsed": true
   },
   "outputs": [],
   "source": [
    "#Importing dependencies\n",
    "import pandas as pd\n",
    "import sys"
   ]
  },
  {
   "cell_type": "code",
   "execution_count": 59,
   "metadata": {
    "collapsed": true
   },
   "outputs": [],
   "source": [
    "#Reading events file\n",
    "events = pd.read_csv('events.csv')\n",
    "events = events.iloc[1:100,:]"
   ]
  },
  {
   "cell_type": "code",
   "execution_count": 60,
   "metadata": {
    "collapsed": false,
    "scrolled": true
   },
   "outputs": [
    {
     "data": {
      "text/html": [
       "<div>\n",
       "<table border=\"1\" class=\"dataframe\">\n",
       "  <thead>\n",
       "    <tr style=\"text-align: right;\">\n",
       "      <th></th>\n",
       "      <th>timestamp</th>\n",
       "      <th>visitorid</th>\n",
       "      <th>event</th>\n",
       "      <th>itemid</th>\n",
       "      <th>transactionid</th>\n",
       "    </tr>\n",
       "  </thead>\n",
       "  <tbody>\n",
       "    <tr>\n",
       "      <th>1</th>\n",
       "      <td>1433224214164</td>\n",
       "      <td>992329</td>\n",
       "      <td>view</td>\n",
       "      <td>248676</td>\n",
       "      <td>NaN</td>\n",
       "    </tr>\n",
       "    <tr>\n",
       "      <th>2</th>\n",
       "      <td>1433221999827</td>\n",
       "      <td>111016</td>\n",
       "      <td>view</td>\n",
       "      <td>318965</td>\n",
       "      <td>NaN</td>\n",
       "    </tr>\n",
       "    <tr>\n",
       "      <th>3</th>\n",
       "      <td>1433221955914</td>\n",
       "      <td>483717</td>\n",
       "      <td>view</td>\n",
       "      <td>253185</td>\n",
       "      <td>NaN</td>\n",
       "    </tr>\n",
       "    <tr>\n",
       "      <th>4</th>\n",
       "      <td>1433221337106</td>\n",
       "      <td>951259</td>\n",
       "      <td>view</td>\n",
       "      <td>367447</td>\n",
       "      <td>NaN</td>\n",
       "    </tr>\n",
       "    <tr>\n",
       "      <th>5</th>\n",
       "      <td>1433224086234</td>\n",
       "      <td>972639</td>\n",
       "      <td>view</td>\n",
       "      <td>22556</td>\n",
       "      <td>NaN</td>\n",
       "    </tr>\n",
       "  </tbody>\n",
       "</table>\n",
       "</div>"
      ],
      "text/plain": [
       "       timestamp  visitorid event  itemid  transactionid\n",
       "1  1433224214164     992329  view  248676            NaN\n",
       "2  1433221999827     111016  view  318965            NaN\n",
       "3  1433221955914     483717  view  253185            NaN\n",
       "4  1433221337106     951259  view  367447            NaN\n",
       "5  1433224086234     972639  view   22556            NaN"
      ]
     },
     "execution_count": 60,
     "metadata": {},
     "output_type": "execute_result"
    }
   ],
   "source": [
    "#Displaying events file\n",
    "events.head()"
   ]
  },
  {
   "cell_type": "code",
   "execution_count": 68,
   "metadata": {
    "collapsed": false
   },
   "outputs": [
    {
     "data": {
      "text/plain": [
       "array(['view', 'addtocart'], dtype=object)"
      ]
     },
     "execution_count": 68,
     "metadata": {},
     "output_type": "execute_result"
    }
   ],
   "source": [
    "events.event.unique()"
   ]
  },
  {
   "cell_type": "code",
   "execution_count": 61,
   "metadata": {
    "collapsed": false
   },
   "outputs": [],
   "source": [
    "#Appending path and importing urecommender\n",
    "sys.path.append('/home/siddharth/Desktop/Sidd_files/Recommendation/urecommend')\n",
    "import urecommend"
   ]
  },
  {
   "cell_type": "code",
   "execution_count": 62,
   "metadata": {
    "collapsed": false,
    "scrolled": false
   },
   "outputs": [
    {
     "name": "stdout",
     "output_type": "stream",
     "text": [
      "\n",
      "    This is a mathematical implementation of Universal recommender by actionml\n",
      "    For more information visit: https://www.slideshare.net/pferrel/unified-recommender-39986309\n",
      "    It saves the log file ('urecommend_log.log') in the specified input location\n",
      "\n",
      "    Parameters\n",
      "    -----------\n",
      "    params: meta data about the recommender (dictionary)\n",
      "            keys: 'eventNames': list of events\n",
      "                  \n",
      "                  'primaryEvent': zero indexed location of primary event in the eventNames list (int)\n",
      "                  \n",
      "                  'algorithm': dictionary\n",
      "                               keys: 'name': 'Universal Recommender' (string)\n",
      "                                     'no_recommendations': number of recommendations to return (int)\n",
      "                                     'time_dependency': Include time factor or not (Boolean (True/False))\n",
      "                  \n",
      "                  'log_path': path where log file need to be saved (string)\n",
      "                  'ipython_notebook': True if calling this function in a ipython notebook (boolean)\n",
      "    Methods\n",
      "    --------\n",
      "\n",
      "    urecommend.fit(X)\n",
      "    urecommend.predict(user_history)\n",
      "\n",
      "    \n"
     ]
    }
   ],
   "source": [
    "#Docs\n",
    "print(urecommend.urecommend.__doc__)"
   ]
  },
  {
   "cell_type": "code",
   "execution_count": 63,
   "metadata": {
    "collapsed": false
   },
   "outputs": [],
   "source": [
    "#Defining metadata params dictionary\n",
    "params = {'eventNames': ['view','addtocart', 'transaction'],\n",
    "          'primaryEvent' : 2,\n",
    "          'algorithm' : {'name': 'Universal Recommender',\n",
    "                         'no_recommendations': 5,\n",
    "                         'time_dependency': False},\n",
    "          'log_path':'/home/siddharth/Desktop/Sidd_files/Recommendation/urecommend',\n",
    "          'ipython_notebook':True\n",
    "         }"
   ]
  },
  {
   "cell_type": "code",
   "execution_count": 72,
   "metadata": {
    "collapsed": false
   },
   "outputs": [
    {
     "name": "stdout",
     "output_type": "stream",
     "text": [
      "\n",
      "        This function predicts the recommended products\n",
      "        \n",
      "        Parameters\n",
      "        -----------\n",
      "        user_history:(dictionary of length equal to number of events in params)\n",
      "                     keys will be event name\n",
      "                     and values will be a 2D list of item_id and count pairs\n",
      "                     if there are no items for any event, value for that event will be None\n",
      "\n",
      "        Output\n",
      "        -------\n",
      "        recommendation: (list of itemid)\n",
      "        \n"
     ]
    }
   ],
   "source": [
    "print(urecommend.urecommend.predict.__doc__)"
   ]
  },
  {
   "cell_type": "code",
   "execution_count": 71,
   "metadata": {
    "collapsed": false,
    "scrolled": true
   },
   "outputs": [
    {
     "name": "stderr",
     "output_type": "stream",
     "text": [
      "/home/siddharth/Desktop/Sidd_files/Recommendation/urecommend/urecommend.py:279: RuntimeWarning: divide by zero encountered in log\n",
      "  lg = np.log(np.divide(counts,float(np.sum(counts))))\n"
     ]
    }
   ],
   "source": [
    "#Training the recommender\n",
    "u = urecommend.urecommend(params)\n",
    "u.fit(events)"
   ]
  },
  {
   "cell_type": "code",
   "execution_count": 65,
   "metadata": {
    "collapsed": false,
    "scrolled": true
   },
   "outputs": [],
   "source": [
    "#Defining the user_history dictionary\n",
    "user_history = {}\n",
    "user_history['view']=[['itemid_128499', 1],['itemid_22556', 3]]\n",
    "user_history['transaction']=[['itemid_21989', 1]]\n",
    "user_history['addtocart'] = None"
   ]
  },
  {
   "cell_type": "code",
   "execution_count": 73,
   "metadata": {
    "collapsed": false,
    "scrolled": true
   },
   "outputs": [
    {
     "data": {
      "text/plain": [
       "['itemid_102061',\n",
       " 'itemid_328025',\n",
       " 'itemid_417464',\n",
       " 'itemid_415437',\n",
       " 'itemid_410676']"
      ]
     },
     "execution_count": 73,
     "metadata": {},
     "output_type": "execute_result"
    }
   ],
   "source": [
    "#Predicting the recommendations\n",
    "u.predict(user_history)"
   ]
  },
  {
   "cell_type": "code",
   "execution_count": null,
   "metadata": {
    "collapsed": true
   },
   "outputs": [],
   "source": []
  }
 ],
 "metadata": {
  "kernelspec": {
   "display_name": "Python 3",
   "language": "python",
   "name": "python3"
  },
  "language_info": {
   "codemirror_mode": {
    "name": "ipython",
    "version": 3
   },
   "file_extension": ".py",
   "mimetype": "text/x-python",
   "name": "python",
   "nbconvert_exporter": "python",
   "pygments_lexer": "ipython3",
   "version": "3.6.0"
  }
 },
 "nbformat": 4,
 "nbformat_minor": 2
}
