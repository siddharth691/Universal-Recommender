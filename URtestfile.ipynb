{
 "cells": [
  {
   "cell_type": "markdown",
   "metadata": {},
   "source": [
    "# DEFINING FUNCTIONS"
   ]
  },
  {
   "cell_type": "code",
   "execution_count": 1,
   "metadata": {
    "collapsed": true
   },
   "outputs": [],
   "source": [
    "#Dependencies\n",
    "import pandas as pd\n",
    "import numpy as np\n",
    "import logging\n",
    "import imp"
   ]
  },
  {
   "cell_type": "code",
   "execution_count": 2,
   "metadata": {
    "collapsed": false
   },
   "outputs": [],
   "source": [
    "#Reading the csv file\n",
    "events = pd.read_csv('events.csv')"
   ]
  },
  {
   "cell_type": "code",
   "execution_count": 3,
   "metadata": {
    "collapsed": true
   },
   "outputs": [],
   "source": [
    "#Taking a subset of the file for faster prototyping\n",
    "events = events.iloc[1:100,:]"
   ]
  },
  {
   "cell_type": "code",
   "execution_count": 4,
   "metadata": {
    "collapsed": false
   },
   "outputs": [
    {
     "name": "stdout",
     "output_type": "stream",
     "text": [
      "<class 'pandas.core.frame.DataFrame'>\n",
      "RangeIndex: 99 entries, 1 to 99\n",
      "Data columns (total 5 columns):\n",
      "timestamp        99 non-null int64\n",
      "visitorid        99 non-null int64\n",
      "event            99 non-null object\n",
      "itemid           99 non-null int64\n",
      "transactionid    0 non-null float64\n",
      "dtypes: float64(1), int64(3), object(1)\n",
      "memory usage: 3.9+ KB\n"
     ]
    }
   ],
   "source": [
    "events.info()"
   ]
  },
  {
   "cell_type": "code",
   "execution_count": 6,
   "metadata": {
    "collapsed": false
   },
   "outputs": [],
   "source": [
    "#convering timestamp into pandas datetime format\n",
    "events.timestamp = pd.to_datetime(events.timestamp, unit='ms')"
   ]
  },
  {
   "cell_type": "code",
   "execution_count": 7,
   "metadata": {
    "collapsed": false
   },
   "outputs": [
    {
     "data": {
      "text/plain": [
       "array(['view', 'addtocart', 'transaction'], dtype=object)"
      ]
     },
     "execution_count": 7,
     "metadata": {},
     "output_type": "execute_result"
    }
   ],
   "source": [
    "#Checking different unique events in the dataframe\n",
    "events.event.unique()"
   ]
  },
  {
   "cell_type": "code",
   "execution_count": 8,
   "metadata": {
    "collapsed": false
   },
   "outputs": [],
   "source": [
    "#creating dataframe for each event\n",
    "view = events.loc[events.event == 'view']\n",
    "addtocart = events.loc[events.event == 'addtocart']\n",
    "transaction = events.loc[events.event == 'transaction']"
   ]
  },
  {
   "cell_type": "code",
   "execution_count": 10,
   "metadata": {
    "collapsed": false
   },
   "outputs": [],
   "source": [
    "#Keeping relevant columns\n",
    "view = view.loc[:,['visitorid','itemid']]\n",
    "addtocart = addtocart.loc[:,['visitorid', 'itemid']]\n",
    "transaction = transaction.loc[:,['visitorid', 'itemid']]"
   ]
  },
  {
   "cell_type": "code",
   "execution_count": 286,
   "metadata": {
    "collapsed": false
   },
   "outputs": [],
   "source": [
    "#Creating visitorid as index\n",
    "view.index = view.visitorid\n",
    "view.drop('visitorid', axis=1, inplace =True)\n",
    "addtocart.index = addtocart.visitorid\n",
    "addtocart.drop('visitorid', axis=1, inplace = True)\n",
    "transaction.index = transaction.visitorid\n",
    "transaction.drop('visitorid', axis=1, inplace=True)"
   ]
  },
  {
   "cell_type": "code",
   "execution_count": 290,
   "metadata": {
    "collapsed": false
   },
   "outputs": [],
   "source": [
    "#Creating history matrix\n",
    "history_view = pd.get_dummies(view, columns=['itemid'])\n",
    "history_addtocart = pd.get_dummies(addtocart, columns=['itemid'])\n",
    "history_transaction = pd.get_dummies(transaction, columns=['itemid'])"
   ]
  },
  {
   "cell_type": "code",
   "execution_count": 291,
   "metadata": {
    "collapsed": false
   },
   "outputs": [],
   "source": [
    "#Counting the duplicate rows and adding the count\n",
    "history_view = history_view.groupby([history_view.index])[history_view.filter(regex='itemid_.*').columns].sum()\n",
    "history_addtocart = history_addtocart.groupby([history_addtocart.index])[history_addtocart.filter(regex='itemid_.*').columns].sum()\n",
    "history_transaction = history_transaction.groupby([history_transaction.index])[history_transaction.filter(regex='itemid_.*').columns].sum()"
   ]
  },
  {
   "cell_type": "code",
   "execution_count": 303,
   "metadata": {
    "collapsed": true
   },
   "outputs": [],
   "source": [
    "#Converting into a union dataframe\n",
    "def union_dataframe(history_event, ind_union, col_union):\n",
    "    \n",
    "    history_event = history_event.copy()\n",
    "    index_event_df = pd.DataFrame(0, index=ind_union.difference(history_event.index), columns= history_event.columns)\n",
    "    history_event = pd.concat([history_event, index_event_df], axis=0)\n",
    "    col_event_df = pd.DataFrame(0,index=history_event.index, columns=col_union.difference(history_event.columns))\n",
    "    history_event= pd.concat([history_event, col_event_df], axis=1)\n",
    "    #Sort rows and columns for uniformity\n",
    "    history_event = history_event.reindex_axis(sorted(history_event.columns), axis=1).sort_index()\n",
    "    return history_event\n",
    "\n",
    "ind_union = history_view.index.union(history_addtocart.index).union(history_transaction.index)\n",
    "col_union = history_view.columns.union(history_addtocart.columns).union(history_transaction.columns)\n",
    "history_view =  union_dataframe(history_view,ind_union, col_union)\n",
    "history_addtocart =  union_dataframe(history_addtocart,ind_union, col_union)\n",
    "history_transaction =  union_dataframe(history_transaction,ind_union, col_union)"
   ]
  },
  {
   "cell_type": "code",
   "execution_count": 295,
   "metadata": {
    "collapsed": false,
    "scrolled": true
   },
   "outputs": [
    {
     "data": {
      "text/plain": [
       "visitorid\n",
       "137                                      [itemid_383819]\n",
       "202                                       [itemid_62641]\n",
       "458                                      [itemid_182419]\n",
       "533                                      [itemid_360664]\n",
       "581                                      [itemid_388097]\n",
       "765                                      [itemid_287017]\n",
       "845                                      [itemid_351530]\n",
       "1322                                      [itemid_96924]\n",
       "1485                                      [itemid_32971]\n",
       "1654                                     [itemid_123555]\n",
       "1713                                     [itemid_270144]\n",
       "1722                                     [itemid_381314]\n",
       "1756       [itemid_150100, itemid_296448, itemid_346892]\n",
       "2081                                     [itemid_221146]\n",
       "2160                                     [itemid_280029]\n",
       "2366                                     [itemid_221428]\n",
       "2610                                     [itemid_159856]\n",
       "2900                                     [itemid_280330]\n",
       "3023                                     [itemid_356571]\n",
       "3068                                      [itemid_35913]\n",
       "3109                                     [itemid_463280]\n",
       "3189                                     [itemid_359607]\n",
       "3215                                     [itemid_220165]\n",
       "3849                                      [itemid_99281]\n",
       "3877                                     [itemid_185553]\n",
       "4078                                     [itemid_272907]\n",
       "4550                                     [itemid_271548]\n",
       "4652                                     [itemid_167505]\n",
       "5129                       [itemid_67748, itemid_143362]\n",
       "5628                                     [itemid_197708]\n",
       "                               ...                      \n",
       "953999                                                []\n",
       "994582                                                []\n",
       "1000567                                               []\n",
       "1001673                                               []\n",
       "1018888                                               []\n",
       "1043433                                               []\n",
       "1061098                                               []\n",
       "1067960                                               []\n",
       "1092695                                               []\n",
       "1109107                                               []\n",
       "1111359                                               []\n",
       "1128242                                               []\n",
       "1162854                                               []\n",
       "1162858                                               []\n",
       "1204271                                               []\n",
       "1233931                                               []\n",
       "1253168                                               []\n",
       "1279042                                               []\n",
       "1282975                                               []\n",
       "1318394                                               []\n",
       "1326841                                               []\n",
       "1331125                                               []\n",
       "1339727                                               []\n",
       "1344887                                               []\n",
       "1345880                                               []\n",
       "1359207                                               []\n",
       "1380258                                               []\n",
       "1381164                                               []\n",
       "1402642                                               []\n",
       "1406087                                               []\n",
       "dtype: object"
      ]
     },
     "execution_count": 295,
     "metadata": {},
     "output_type": "execute_result"
    }
   ],
   "source": [
    "#Check which visitor has viewed which item\n",
    "df = history_view.copy()\n",
    "cols = df.columns\n",
    "bt = df.apply(lambda x: x > 0)\n",
    "bt.apply(lambda x: list(cols[x.values]), axis=1)"
   ]
  },
  {
   "cell_type": "code",
   "execution_count": 59,
   "metadata": {
    "collapsed": true
   },
   "outputs": [],
   "source": [
    "#Functions to calculate entropy\n",
    "#k11, k12, k21, and k22 are the counts of simultaneously occuring of two events\n",
    "\n",
    "def denormEntropy1(counts):\n",
    "    '''Computes the entropy of a list of counts scaled by the sum of the counts. If the inputs sum to one, this is just the normal definition of entropy'''\n",
    "    lg = np.log(np.divide(k,float(np.sum(k))))\n",
    "    lg[lg==-np.inf]=0\n",
    "    return -np.sum(k*lg)\n",
    "\n",
    "def llr_2x2(k11, k12, k21, k22):\n",
    "    '''Special case of llr with a 2x2 table'''\n",
    "    return 2 * (denormEntropy([k11+k12, k21+k22]) +\n",
    "                denormEntropy([k11+k21, k12+k22]) -\n",
    "                denormEntropy([k11, k12, k21, k22]))"
   ]
  },
  {
   "cell_type": "code",
   "execution_count": 95,
   "metadata": {
    "collapsed": true
   },
   "outputs": [],
   "source": [
    "#calculating counts k11, k12, k21, k22 for each item, item combination in history matrix\n",
    "#Then calculating cross-cooccurence matrix\n",
    "\n",
    "def calc_counts_row(item1, item2):\n",
    "    new_item = np.concatenate((item1.reshape(-1,1),item2.reshape(-1,1)), axis=1)\n",
    "    if((np.any(new_item[:,1]<0)==True)|(np.any(new_item[:,0]<0)==True)):\n",
    "        raise ValueError('History matrix has negative element')\n",
    "    k22 = len(new_item[(new_item[:,0]==0)&(new_item[:,1]==0)])\n",
    "    k21 = len(new_item[(new_item[:,0]==0)&(new_item[:,1]!=0)])\n",
    "    k12 = len(new_item[(new_item[:,0]!=0)&(new_item[:,1]==0)])\n",
    "    k11 = len(new_item[(new_item[:,0]!=0)&(new_item[:,1]!=0)])\n",
    "    \n",
    "    return k11,k12,k21,k22\n",
    "\n",
    "def calc_cooccurence_matrix(history_event):\n",
    "    coo_matrix = np.zeros((history_event.shape[1],history_event.shape[1]))\n",
    "    for item1_index in range(history_event.shape[1]):\n",
    "        for item2_index in range(history_event.shape[1]):\n",
    "            item1 = history_event[:,item1_index]\n",
    "            item2 = history_event[:,item2_index]\n",
    "            llr = llr_2x2(calc_counts_row(item1,item2))\n",
    "            coo_matrix[item1_index,item2_index] = llr\n",
    "    return coo_matrix\n",
    "\n",
    "def calc_cross_coocurence_matrix(primary_history, secondary_event):\n",
    "    coo_matrix = np.zeros((primary_history.shape[1], primary_history.shape[1]))\n",
    "    for item1_index in range(primary_history.shape[1]):\n",
    "        for item2_index in range(secondary_event.shape[1]):\n",
    "            item1 = primary_history[:,item1_index]\n",
    "            item2 = secondary_event[:,item2_index]\n",
    "            llr = llr_2x2(calc_counts_row(item1,item2))\n",
    "            coo_matrix[item1_index,item2_index] =llr\n",
    "    return coo_matrix\n",
    "\n",
    "def return_recommended_llr(coo_matrix, user_history):\n",
    "    user_history = user_history.reshape(-1,1)\n",
    "    user_llr = np.dot(coo_matrix, user_history)\n",
    "    return llr\n"
   ]
  },
  {
   "cell_type": "markdown",
   "metadata": {
    "collapsed": true
   },
   "source": [
    "#Recommendation training flow\n",
    "1. Creating a history matrix (including adding count for duplicate events by same user)\n",
    "2. Converting it into union history matrix\n",
    "3. Calculating cooccurence and cross-cooccurence matrix\n",
    "4. Calculating user_llr for each event\n",
    "5. Adding user_llr and recommending based on the number of recommendations specified"
   ]
  },
  {
   "cell_type": "markdown",
   "metadata": {},
   "source": [
    "# TEST RUN"
   ]
  },
  {
   "cell_type": "code",
   "execution_count": 14,
   "metadata": {
    "collapsed": false
   },
   "outputs": [],
   "source": [
    "#Appending path and importing\n",
    "import sys\n",
    "sys.path.append('/home/siddharth/Desktop/Sidd_files/Recommendation/urecommend')\n",
    "import urecommend"
   ]
  },
  {
   "cell_type": "code",
   "execution_count": 15,
   "metadata": {
    "collapsed": false
   },
   "outputs": [],
   "source": [
    "#Defining metadata params dictionary\n",
    "params = {'eventNames': ['view','addtocart', 'transaction'],\n",
    "          'primaryEvent' : 2,\n",
    "          'algorithm' : {'name': 'Universal Recommender',\n",
    "                         'no_recommendations': 3,\n",
    "                         'time_dependency': False},\n",
    "          'log_path':'/home/siddharth/Desktop/Sidd_files/Recommendation/urecommend',\n",
    "          'ipython_notebook':True\n",
    "         }"
   ]
  },
  {
   "cell_type": "code",
   "execution_count": 16,
   "metadata": {
    "collapsed": false,
    "scrolled": false
   },
   "outputs": [
    {
     "name": "stderr",
     "output_type": "stream",
     "text": [
      "/home/siddharth/Desktop/Sidd_files/Recommendation/urecommend/urecommend.py:279: RuntimeWarning: divide by zero encountered in log\n",
      "  lg = np.log(np.divide(counts,float(np.sum(counts))))\n"
     ]
    }
   ],
   "source": [
    "#Training the recommender\n",
    "u = urecommend.urecommend(params)\n",
    "u.fit(events)"
   ]
  },
  {
   "cell_type": "code",
   "execution_count": 17,
   "metadata": {
    "collapsed": false,
    "scrolled": true
   },
   "outputs": [],
   "source": [
    "#Defining the user_history dictionary\n",
    "user_history = {}\n",
    "user_history['view']=[['itemid_128499', 1],['itemid_22556', 3]]\n",
    "user_history['transaction']=[['itemid_21989', 1]]\n",
    "user_history['addtocart'] = None"
   ]
  },
  {
   "cell_type": "code",
   "execution_count": 18,
   "metadata": {
    "collapsed": false
   },
   "outputs": [
    {
     "data": {
      "text/plain": [
       "['itemid_102061', 'itemid_328025', 'itemid_417464']"
      ]
     },
     "execution_count": 18,
     "metadata": {},
     "output_type": "execute_result"
    }
   ],
   "source": [
    "#Predicting the recommendations\n",
    "u.predict(user_history)"
   ]
  },
  {
   "cell_type": "code",
   "execution_count": null,
   "metadata": {
    "collapsed": true
   },
   "outputs": [],
   "source": []
  }
 ],
 "metadata": {
  "kernelspec": {
   "display_name": "Python 3",
   "language": "python",
   "name": "python3"
  },
  "language_info": {
   "codemirror_mode": {
    "name": "ipython",
    "version": 3
   },
   "file_extension": ".py",
   "mimetype": "text/x-python",
   "name": "python",
   "nbconvert_exporter": "python",
   "pygments_lexer": "ipython3",
   "version": "3.6.0"
  }
 },
 "nbformat": 4,
 "nbformat_minor": 2
}
